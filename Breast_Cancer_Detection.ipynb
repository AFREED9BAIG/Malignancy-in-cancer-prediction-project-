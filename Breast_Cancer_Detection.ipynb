{
  "nbformat": 4,
  "nbformat_minor": 0,
  "metadata": {
    "colab": {
      "private_outputs": true,
      "provenance": [],
      "collapsed_sections": []
    },
    "kernelspec": {
      "name": "python3",
      "display_name": "Python 3"
    },
    "language_info": {
      "name": "python"
    }
  },
  "cells": [
    {
      "cell_type": "markdown",
      "source": [
        "**### Breast cancer detection with Logistic Regression**"
      ],
      "metadata": {
        "id": "S9U6tvrE_ohO"
      }
    },
    {
      "cell_type": "code",
      "source": [
        "#importing libraries\n",
        "import numpy as np\n",
        "import sklearn.datasets"
      ],
      "metadata": {
        "id": "VcYi0_XVABNj"
      },
      "execution_count": null,
      "outputs": []
    },
    {
      "cell_type": "code",
      "source": [
        "#getting the datasets\n",
        "breast_cancer = sklearn.datasets.load_breast_cancer()"
      ],
      "metadata": {
        "id": "Dey6LXAlBam8"
      },
      "execution_count": null,
      "outputs": []
    },
    {
      "cell_type": "code",
      "source": [
        "print(breast_cancer)"
      ],
      "metadata": {
        "id": "965pnwkiCNNc"
      },
      "execution_count": null,
      "outputs": []
    },
    {
      "cell_type": "code",
      "source": [
        "x = breast_cancer.data\n",
        "y = breast_cancer.target"
      ],
      "metadata": {
        "id": "wgCTjE-nC4wK"
      },
      "execution_count": null,
      "outputs": []
    },
    {
      "cell_type": "code",
      "source": [
        "print(x)\n",
        "print(y)"
      ],
      "metadata": {
        "id": "ZeLrds5_DI4R"
      },
      "execution_count": null,
      "outputs": []
    },
    {
      "cell_type": "code",
      "source": [
        "print(x.shape, y.shape)"
      ],
      "metadata": {
        "id": "-22jYVPoDaVB"
      },
      "execution_count": null,
      "outputs": []
    },
    {
      "cell_type": "markdown",
      "source": [
        " **## Importing data to the pandas data frame**"
      ],
      "metadata": {
        "id": "ROtEZzpkD5N5"
      }
    },
    {
      "cell_type": "code",
      "source": [
        "import pandas as pd"
      ],
      "metadata": {
        "id": "hzgbzkBYDaRq"
      },
      "execution_count": null,
      "outputs": []
    },
    {
      "cell_type": "code",
      "source": [
        "data = pd.DataFrame(breast_cancer.data, columns = breast_cancer.feature_names)"
      ],
      "metadata": {
        "id": "jOqr6mP6ELie"
      },
      "execution_count": null,
      "outputs": []
    },
    {
      "cell_type": "code",
      "source": [
        "data['class'] = breast_cancer.target"
      ],
      "metadata": {
        "id": "nG0WI08sFGqq"
      },
      "execution_count": null,
      "outputs": []
    },
    {
      "cell_type": "code",
      "source": [
        "data.head()"
      ],
      "metadata": {
        "id": "iTI3_dGtFN2I"
      },
      "execution_count": null,
      "outputs": []
    },
    {
      "cell_type": "code",
      "source": [
        "data.describe()"
      ],
      "metadata": {
        "id": "cPjw4cCiGaO7"
      },
      "execution_count": null,
      "outputs": []
    },
    {
      "cell_type": "code",
      "source": [
        "print(data['class'].value_counts())"
      ],
      "metadata": {
        "id": "5mtB1O8IGdgN"
      },
      "execution_count": null,
      "outputs": []
    },
    {
      "cell_type": "code",
      "source": [
        "print(breast_cancer.target_names)"
      ],
      "metadata": {
        "id": "RHueQBVYGs4q"
      },
      "execution_count": null,
      "outputs": []
    },
    {
      "cell_type": "code",
      "source": [
        "data.groupby('class').mean()"
      ],
      "metadata": {
        "id": "hX6h_vbSG2Uh"
      },
      "execution_count": null,
      "outputs": []
    },
    {
      "cell_type": "markdown",
      "source": [
        "0 is for Malignant &\n",
        "\n",
        "1 is for Benign\n",
        "\n",
        "\n",
        "\n",
        "\n"
      ],
      "metadata": {
        "id": "J0oigOhfHsvh"
      }
    },
    {
      "cell_type": "markdown",
      "source": [
        "# **Train & Test Split**"
      ],
      "metadata": {
        "id": "3gpSZrKgIc0Y"
      }
    },
    {
      "cell_type": "code",
      "source": [
        "from sklearn.model_selection import train_test_split"
      ],
      "metadata": {
        "id": "OA60sw_THR5l"
      },
      "execution_count": null,
      "outputs": []
    },
    {
      "cell_type": "code",
      "source": [
        "x_test, x_train, y_test, y_train = train_test_split(x,y)"
      ],
      "metadata": {
        "id": "m1T6u_6hI85H"
      },
      "execution_count": null,
      "outputs": []
    },
    {
      "cell_type": "code",
      "source": [
        "print(y.shape, y_train.shape, y_test.shape)"
      ],
      "metadata": {
        "id": "c4jAVajPJdJ1"
      },
      "execution_count": null,
      "outputs": []
    },
    {
      "cell_type": "code",
      "source": [
        "x_test, x_train, y_test, y_train = train_test_split(x,y, test_size=0.1)\n",
        "# test_size ----> to specify the percentage of test data needed"
      ],
      "metadata": {
        "id": "93nfTusjJu9l"
      },
      "execution_count": null,
      "outputs": []
    },
    {
      "cell_type": "code",
      "source": [
        "print(y.shape, y_train.shape, y_test.shape)"
      ],
      "metadata": {
        "id": "miq09xnHKJ5u"
      },
      "execution_count": null,
      "outputs": []
    },
    {
      "cell_type": "code",
      "source": [
        "print(y.mean(), y_train.mean(), y_test.mean())"
      ],
      "metadata": {
        "id": "uicbfTqsKhsW"
      },
      "execution_count": null,
      "outputs": []
    },
    {
      "cell_type": "code",
      "source": [
        "x_test, x_train, y_test, y_train = train_test_split(x,y, test_size=0.1, stratify = y)\n",
        "# stratify ----> for correct distribution of data as of the original data"
      ],
      "metadata": {
        "id": "4Wk1sC4EKzDL"
      },
      "execution_count": null,
      "outputs": []
    },
    {
      "cell_type": "code",
      "source": [
        "print(y.mean(), y_train.mean(), y_test.mean())"
      ],
      "metadata": {
        "id": "8Y1ZVzUALOP1"
      },
      "execution_count": null,
      "outputs": []
    },
    {
      "cell_type": "code",
      "source": [
        "x_test, x_train, y_test, y_train = train_test_split(x,y, test_size=0.1, stratify = y, random_state =1)\n",
        "#random_state ----> specific split of data. each value of random_state splits the data differently"
      ],
      "metadata": {
        "id": "Mlw3lw-ELGeM"
      },
      "execution_count": null,
      "outputs": []
    },
    {
      "cell_type": "code",
      "source": [
        "print(x_train.mean(), x_test.mean(), x.mean())"
      ],
      "metadata": {
        "id": "mexPozoWL1NX"
      },
      "execution_count": null,
      "outputs": []
    },
    {
      "cell_type": "code",
      "source": [
        "print(x_train)"
      ],
      "metadata": {
        "id": "pMA9yYErNhTe"
      },
      "execution_count": null,
      "outputs": []
    },
    {
      "cell_type": "markdown",
      "source": [
        "**## Logicstic Regression**"
      ],
      "metadata": {
        "id": "nqRSL9gJUBlz"
      }
    },
    {
      "cell_type": "code",
      "source": [
        "#import logistic Regression from sklearn\n",
        "from sklearn.linear_model import LogisticRegression "
      ],
      "metadata": {
        "id": "5F1I0XVuNkmg"
      },
      "execution_count": null,
      "outputs": []
    },
    {
      "cell_type": "code",
      "source": [
        "classifier = LogisticRegression() \n",
        "#loading logistic regression model to the variable 'classifier'"
      ],
      "metadata": {
        "id": "RUenJx6tVBnK"
      },
      "execution_count": null,
      "outputs": []
    },
    {
      "cell_type": "code",
      "source": [
        "classifier.fit?"
      ],
      "metadata": {
        "id": "C4rvGWlkVWNE"
      },
      "execution_count": null,
      "outputs": []
    },
    {
      "cell_type": "code",
      "source": [
        "#training the model on training data\n",
        "\n",
        "classifier.fit(x_train, y_train)"
      ],
      "metadata": {
        "id": "CC9SvtDZVnMC"
      },
      "execution_count": null,
      "outputs": []
    },
    {
      "cell_type": "markdown",
      "source": [
        "## **Evaluation of the model**"
      ],
      "metadata": {
        "id": "CDQFaUkiWQwU"
      }
    },
    {
      "cell_type": "code",
      "source": [
        "#import accuracy_score\n",
        "\n",
        "from sklearn.metrics import accuracy_score"
      ],
      "metadata": {
        "id": "ZHoFQuemWa4d"
      },
      "execution_count": null,
      "outputs": []
    },
    {
      "cell_type": "code",
      "source": [
        "#prediction_on_training_data\n",
        "\n",
        "prediction_on_training_data = classifier.predict(x_train)\n",
        "accuracy_on_training_data = accuracy_score(y_train, prediction_on_training_data)\n"
      ],
      "metadata": {
        "id": "TXbjBUaCWtnp"
      },
      "execution_count": null,
      "outputs": []
    },
    {
      "cell_type": "code",
      "source": [
        "print(\"Accuracy_on_training_data: \", accuracy_on_training_data)"
      ],
      "metadata": {
        "id": "ajTrTx51XGoS"
      },
      "execution_count": null,
      "outputs": []
    },
    {
      "cell_type": "code",
      "source": [
        "#prediction_on_test_data\n",
        "\n",
        "prediction_on_test_data = classifier.predict(x_test)\n",
        "accuracy_on_test_data = accuracy_score(y_test, prediction_on_test_data)"
      ],
      "metadata": {
        "id": "nPOB86fzXod3"
      },
      "execution_count": null,
      "outputs": []
    },
    {
      "cell_type": "code",
      "source": [
        "print(\"Accuracy_on_test_data: \", accuracy_on_test_data)"
      ],
      "metadata": {
        "id": "FGRtt-0iYOfC"
      },
      "execution_count": null,
      "outputs": []
    },
    {
      "cell_type": "markdown",
      "source": [
        "## **Detecting wether the patient has breast cancer in Bengin or Malignant stage**"
      ],
      "metadata": {
        "id": "c0HmmqkFYsNE"
      }
    },
    {
      "cell_type": "code",
      "source": [
        "input_data = (7.76,\t24.54,\t47.92,\t181,\t0.05263,\t0.04362,\t0,\t0,\t0.1587,\t0.05884,\t0.3857,\t1.428,\t2.548,\t19.15,\t0.007189,\t0.00466,\t0,\t0,\t0.02676,\t0.002783,\t9.456,\t30.37,\t59.16,\t268.6,\t0.08996,\t0.06444,\t0,\t0,\t0.2871,\t0.07039)\n",
        "\n",
        "#Changing the input data(input data is in tuple) into numpy array to make prediction\n",
        "\n",
        "input_data_as_numpy_array = np.asarray(input_data)\n",
        "print(input_data)\n",
        "\n",
        "#reshape the array as we are predicting the output for one instance\n",
        "\n",
        "input_data_reshaped = input_data_as_numpy_array.reshape(1, -1)\n",
        "\n",
        "#prediction\n",
        "\n",
        "prediction = classifier.predict(input_data_reshaped)\n",
        "print(prediction) \n",
        "\n",
        "#returns a list with element [0] if malignant , returns a list with element [1], if benign\n",
        "\n",
        "if (prediction [0]==[0]):\n",
        "  print('Breast cancer is malignant')\n",
        "else:\n",
        "  print('Breasr cancer is Benign')"
      ],
      "metadata": {
        "id": "zGcIjSVSYq--"
      },
      "execution_count": null,
      "outputs": []
    }
  ]
}